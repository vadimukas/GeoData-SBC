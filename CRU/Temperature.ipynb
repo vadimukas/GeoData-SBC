{
 "cells": [
  {
   "cell_type": "code",
   "execution_count": 10,
   "id": "7cfc4e5e",
   "metadata": {},
   "outputs": [
    {
     "data": {
      "text/plain": [
       "               _                           \n",
       "platform       x86_64-w64-mingw32          \n",
       "arch           x86_64                      \n",
       "os             mingw32                     \n",
       "system         x86_64, mingw32             \n",
       "status                                     \n",
       "major          4                           \n",
       "minor          1.2                         \n",
       "year           2021                        \n",
       "month          11                          \n",
       "day            01                          \n",
       "svn rev        81115                       \n",
       "language       R                           \n",
       "version.string R version 4.1.2 (2021-11-01)\n",
       "nickname       Bird Hippie                 "
      ]
     },
     "metadata": {},
     "output_type": "display_data"
    }
   ],
   "source": [
    "version\n"
   ]
  },
  {
   "cell_type": "code",
   "execution_count": 11,
   "id": "44251f40",
   "metadata": {},
   "outputs": [
    {
     "name": "stderr",
     "output_type": "stream",
     "text": [
      "Warning message:\n",
      "\"package 'rgdal' is in use and will not be installed\"\n",
      "Warning message:\n",
      "\"package 'raster' is in use and will not be installed\"\n",
      "Warning message:\n",
      "\"package 'maptools' is in use and will not be installed\"\n",
      "Warning message:\n",
      "\"package 'ncdf4' is in use and will not be installed\"\n",
      "Warning message:\n",
      "\"package 'RColorBrewer' is in use and will not be installed\"\n"
     ]
    }
   ],
   "source": [
    "# first intall the package\n",
    "install.packages(\"rgdal\")\n",
    "install.packages(\"raster\")\n",
    "install.packages(\"maptools\")\n",
    "install.packages(\"ncdf4\")\n",
    "install.packages(\"RColorBrewer\")\n"
   ]
  },
  {
   "cell_type": "code",
   "execution_count": 12,
   "id": "c0642fb9",
   "metadata": {},
   "outputs": [],
   "source": [
    "# first load the packages\n",
    "library(rgdal)\n",
    "library(raster)\n",
    "library(maptools)\n",
    "library(ncdf4)\n",
    "library(RColorBrewer)\n"
   ]
  },
  {
   "cell_type": "code",
   "execution_count": 13,
   "id": "ec5214a8",
   "metadata": {},
   "outputs": [
    {
     "data": {
      "text/html": [
       "'D:/R/CRU'"
      ],
      "text/latex": [
       "'D:/R/CRU'"
      ],
      "text/markdown": [
       "'D:/R/CRU'"
      ],
      "text/plain": [
       "[1] \"D:/R/CRU\""
      ]
     },
     "metadata": {},
     "output_type": "display_data"
    }
   ],
   "source": [
    "# set the working directory where your nc files are\n",
    "setwd(\"D:/R/CRU\")\n",
    "getwd()"
   ]
  },
  {
   "cell_type": "code",
   "execution_count": 14,
   "id": "3aac74b9",
   "metadata": {},
   "outputs": [],
   "source": [
    "#Open netcdf files using brick function\n",
    "t_1<-brick(\"D:/R/CRU/Data/cru_ts4.03.1981.1990.tmp.dat.nc\",varname=\"tmp\")\n",
    "t_2<-brick(\"D:/R/CRU/Data/cru_ts4.03.1991.2000.tmp.dat.nc\",varname=\"tmp\")\n",
    "t_3<-brick(\"D:/R/CRU/Data/cru_ts4.03.2001.2010.tmp.dat.nc\",varname=\"tmp\")"
   ]
  },
  {
   "cell_type": "code",
   "execution_count": 15,
   "id": "5ba92891",
   "metadata": {},
   "outputs": [
    {
     "data": {
      "text/html": [
       "360"
      ],
      "text/latex": [
       "360"
      ],
      "text/markdown": [
       "360"
      ],
      "text/plain": [
       "[1] 360"
      ]
     },
     "metadata": {},
     "output_type": "display_data"
    }
   ],
   "source": [
    "t_total<-t_1\n",
    "n<-nlayers(t_total)\n",
    "for(i in 1:nlayers(t_2))\n",
    "{\n",
    "  t_total[[n+i]]<-t_2[[i]]\n",
    "}\n",
    "n<-nlayers(t_total)\n",
    "for(i in 1:nlayers(t_3))\n",
    "{\n",
    "  t_total[[n+i]]<-t_3[[i]]\n",
    "}\n",
    "\n",
    "nlayers(t_total)"
   ]
  },
  {
   "cell_type": "code",
   "execution_count": 16,
   "id": "98349fc3",
   "metadata": {},
   "outputs": [],
   "source": [
    "f_season<-function (m){\n",
    "  if (m<3 | m==12) {return(\"1_DJF\") }\n",
    "  if (m>2 & m<6) {return (\"2_MAM\") }\n",
    "  if (m>5 & m<9) {return (\"3_JJA\") }\n",
    "  if (m>8 & m<12) {return (\"4_SON\")} \n",
    "    return (\"X\")\n",
    "}"
   ]
  },
  {
   "cell_type": "code",
   "execution_count": 19,
   "id": "832a2975",
   "metadata": {},
   "outputs": [],
   "source": [
    "f_plot<-function(t,nm){\n",
    "  colors<-c(\"brown2\",\"white\",\"cornflowerblue\")\n",
    "  #c('lightsteelblue4','lightsteelblue3','lightsteelblue2','lightsteelblue', 'white', 'tomato', 'tomato2', 'tomato3', 'tomato4')\n",
    " # brewer.pal(n = 40, name = \"RdYlBu\")\n",
    "    year<-as.numeric(substr(names(t),2,5))\n",
    "length(year)\n",
    "month<-as.numeric(substr(names(t),7,8))\n",
    "length(month)\n",
    "season<-as.character(substr(names(t),7,8))\n",
    "date<-ISOdate(year, month,1)\n",
    "t<-setZ(t, date)\n",
    "    for(i in 1:length(season))\n",
    "season[i]<-f_season(as.numeric(season[i]))\n",
    "length(season)\n",
    "    #t<-setZ(t,month, name='month')\n",
    "#t_month<-zApply(t, by=month,fun=mean)\n",
    "#t<-setZ(t,year, name='year')\n",
    "#t_year<-zApply(t, by=year,fun=mean)\n",
    "t<-setZ(t,season, name='season')\n",
    "t_season<-zApply(t, by=season,fun = mean)\n",
    "    #plot(t_season, xlim = c(40, 95), ylim = c(30, 60),col=colorRampPalette(c('lightsteelblue4','lightsteelblue3','lightsteelblue2','lightsteelblue', 'white', 'tomato', 'tomato2', 'tomato3', 'tomato4'))(1000))\n",
    "for(s in 1:nlayers(t_season))\n",
    "#if (s>0 & s<nlayers(t_season)+1)\n",
    "{\n",
    " # z <- if(names(t_season[[s]])==\"X1_DJF\" | names(t_season[[s]])==\"X4_SON\" ) c(-20,20) else c(0,40)\n",
    "  \n",
    "  #/par(col.lab=\"red\") \n",
    "  png(paste(\"tmp\",as.character(s),\".png\"), width = 13.1, height = 10, units = 'in', res = 500)\n",
    "  par(\n",
    "    cex=1.4,\n",
    "    mar=c(4.7,4.1,4.7,7)\n",
    "    #mgp=c(5,1,3)\n",
    "  )\n",
    "      plot(\n",
    "    t_season[[s]],\n",
    "    \n",
    "    main=paste(nm,substr(names(t_season[[s]]),4,6)),\n",
    "    xlim = c(45, 88), \n",
    "    ylim = c(35, 57),\n",
    "    zlim= c(-25, 35),\n",
    "    xlab=\"longitude\",\n",
    "    ylab=\"latitude\",\n",
    "    col=colorRampPalette(rev(colors))(1000)\n",
    "      )\n",
    "  world_map<-readShapePoly(\"D:/R/CRU/SHP/TM_WORLD_BORDERS-0.2\")\n",
    "  plot(world_map, add=T,\n",
    "       xlim = c(45, 88), \n",
    "       ylim = c(35, 57)\n",
    "       )\n",
    "  \n",
    "  dev.off()\n",
    "  \n",
    "  }\n",
    "\n",
    "}"
   ]
  },
  {
   "cell_type": "code",
   "execution_count": 20,
   "id": "118074e2",
   "metadata": {},
   "outputs": [
    {
     "name": "stderr",
     "output_type": "stream",
     "text": [
      "Warning message:\n",
      "\"readShapePoly is deprecated; use rgdal::readOGR or sf::st_read\"\n",
      "Warning message:\n",
      "\"readShapePoly is deprecated; use rgdal::readOGR or sf::st_read\"\n",
      "Warning message:\n",
      "\"readShapePoly is deprecated; use rgdal::readOGR or sf::st_read\"\n",
      "Warning message:\n",
      "\"readShapePoly is deprecated; use rgdal::readOGR or sf::st_read\"\n"
     ]
    },
    {
     "data": {
      "text/plain": [
       "Warning message:\n",
       "In strptime(paste(.leap.seconds, \"23:59:60\"), \"%Y-%m-%d %H:%M:%S\",  ... :\n",
       "  unable to identify current timezone 'C':\n",
       "please set environment variable 'TZ'"
      ]
     },
     "metadata": {},
     "output_type": "display_data"
    }
   ],
   "source": [
    "  \n",
    "#f_plot(t_1,\"1981-1990\",1)\n",
    "#f_plot(t_2,\"1991-2000\",3)\n",
    "#f_plot(t_3,\"2001-2010\",3)\n",
    "\n",
    "f_plot(t_total,\"\")#,1)\n",
    "\n",
    "#for (i in 1:4)\n",
    "#{\n",
    " # f_plot(t_total,\"TT\",i)\n",
    "#}\n",
    "\n",
    "warnings()"
   ]
  },
  {
   "cell_type": "code",
   "execution_count": null,
   "id": "8883b7b9",
   "metadata": {},
   "outputs": [],
   "source": []
  }
 ],
 "metadata": {
  "kernelspec": {
   "display_name": "R",
   "language": "R",
   "name": "ir"
  },
  "language_info": {
   "codemirror_mode": "r",
   "file_extension": ".r",
   "mimetype": "text/x-r-source",
   "name": "R",
   "pygments_lexer": "r",
   "version": "4.1.2"
  }
 },
 "nbformat": 4,
 "nbformat_minor": 5
}
