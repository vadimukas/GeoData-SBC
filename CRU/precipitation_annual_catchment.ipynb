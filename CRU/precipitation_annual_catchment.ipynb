{
 "cells": [
  {
   "cell_type": "code",
   "execution_count": 1,
   "id": "7cfc4e5e",
   "metadata": {},
   "outputs": [
    {
     "data": {
      "text/plain": [
       "               _                           \n",
       "platform       i386-w64-mingw32            \n",
       "arch           i386                        \n",
       "os             mingw32                     \n",
       "system         i386, mingw32               \n",
       "status                                     \n",
       "major          4                           \n",
       "minor          1.2                         \n",
       "year           2021                        \n",
       "month          11                          \n",
       "day            01                          \n",
       "svn rev        81115                       \n",
       "language       R                           \n",
       "version.string R version 4.1.2 (2021-11-01)\n",
       "nickname       Bird Hippie                 "
      ]
     },
     "metadata": {},
     "output_type": "display_data"
    }
   ],
   "source": [
    "version\n"
   ]
  },
  {
   "cell_type": "code",
   "execution_count": 12,
   "id": "44251f40",
   "metadata": {},
   "outputs": [
    {
     "name": "stderr",
     "output_type": "stream",
     "text": [
      "Warning message:\n",
      "\"package 'maps' is in use and will not be installed\"\n",
      "Warning message:\n",
      "\"package 'lattice' is in use and will not be installed\"\n",
      "Warning message:\n",
      "\"package 'latticeExtra' is in use and will not be installed\"\n",
      "Warning message:\n",
      "\"package 'sf' is in use and will not be installed\"\n",
      "Warning message:\n",
      "\"package 'rasterVis' is in use and will not be installed\"\n",
      "Warning message:\n",
      "\"package 'viridisLite' is in use and will not be installed\"\n",
      "Warning message:\n",
      "\"package 'viridis' is in use and will not be installed\"\n"
     ]
    }
   ],
   "source": [
    "# first intall the package\n",
    "#install.packages(\"rgdal\")\n",
    "#install.packages(\"raster\")\n",
    "#install.packages(\"maptools\")\n",
    "#install.packages(\"ncdf4\")\n",
    "#install.packages(\"RColorBrewer\")\n",
    "install.packages(\"maps\")\n",
    "install.packages(\"lattice\")\n",
    "install.packages(\"latticeExtra\")\n",
    "install.packages(\"sf\") \n",
    "install.packages(\"rasterVis\")\n",
    "install.packages(\"viridisLite\")\n",
    "install.packages(\"viridis\") "
   ]
  },
  {
   "cell_type": "code",
   "execution_count": 13,
   "id": "c0642fb9",
   "metadata": {},
   "outputs": [],
   "source": [
    "# first load the packages\n",
    "library(rgdal)\n",
    "library(raster)\n",
    "library(maptools)\n",
    "library(ncdf4)\n",
    "library(RColorBrewer)\n",
    "library(maps)\n",
    "library(lattice)\n",
    "library(latticeExtra)\n",
    "library(sf) \n",
    "library(rasterVis)\n",
    "library(viridisLite)\n",
    "library(viridis) \n"
   ]
  },
  {
   "cell_type": "code",
   "execution_count": 14,
   "id": "ec5214a8",
   "metadata": {},
   "outputs": [
    {
     "data": {
      "text/html": [
       "'D:/R/CRU'"
      ],
      "text/latex": [
       "'D:/R/CRU'"
      ],
      "text/markdown": [
       "'D:/R/CRU'"
      ],
      "text/plain": [
       "[1] \"D:/R/CRU\""
      ]
     },
     "metadata": {},
     "output_type": "display_data"
    }
   ],
   "source": [
    "# set the working directory where your nc files are\n",
    "setwd(\"D:/R/CRU\")\n",
    "getwd()"
   ]
  },
  {
   "cell_type": "code",
   "execution_count": 15,
   "id": "3aac74b9",
   "metadata": {},
   "outputs": [],
   "source": [
    "#Open netcdf files using brick function\n",
    "p_1<-brick(\"D:/R/CRU/Data/cru_ts4.03.1981.1990.pre.dat.nc\",varname=\"pre\")\n",
    "p_2<-brick(\"D:/R/CRU/Data/cru_ts4.03.1991.2000.pre.dat.nc\",varname=\"pre\")\n",
    "p_3<-brick(\"D:/R/CRU/Data/cru_ts4.03.2001.2010.pre.dat.nc\",varname=\"pre\")"
   ]
  },
  {
   "cell_type": "code",
   "execution_count": 16,
   "id": "5ba92891",
   "metadata": {},
   "outputs": [
    {
     "ename": "ERROR",
     "evalue": "Error: cannot allocate vector of size 611.1 Mb\n",
     "output_type": "error",
     "traceback": [
      "Error: cannot allocate vector of size 611.1 Mb\nTraceback:\n",
      "1. `[[<-`(`*tmp*`, n + i, value = new(\"RasterLayer\", file = new(\".RasterFile\", \n .     name = \"D:\\\\R\\\\CRU\\\\Data\\\\cru_ts4.03.2001.2010.pre.dat.nc\", \n .     datanotation = \"FLT4S\", byteorder = \"little\", nodatavalue = 9.96920996838687e+36, \n .     NAchanged = TRUE, nbands = 120L, bandorder = \"BIL\", offset = 0L, \n .     toptobottom = TRUE, blockrows = 0L, blockcols = 0L, driver = \"netcdf\", \n .     open = FALSE), data = new(\".SingleLayerData\", values = logical(0), \n .     offset = 0, gain = 1, inmemory = FALSE, fromdisk = TRUE, \n .     isfactor = FALSE, attributes = list(), haveminmax = FALSE, \n .     min = Inf, max = -Inf, band = 69L, unit = \"\", names = \"X2006.09.16\"), \n .     legend = new(\".RasterLegend\", type = character(0), values = logical(0), \n .         color = logical(0), names = logical(0), colortable = logical(0)), \n .     title = character(0), extent = new(\"Extent\", xmin = -180, \n .         xmax = 180, ymin = -90, ymax = 90), rotated = FALSE, \n .     rotation = new(\".Rotation\", geotrans = numeric(0), transfun = function () \n .     NULL), ncols = 720L, nrows = 360L, crs = new(\"CRS\", projargs = \"+proj=longlat +datum=WGS84 +no_defs\"), \n .     history = list(), z = list(structure(13407, class = \"Date\"))))",
      "2. `[[<-`(`*tmp*`, n + i, value = new(\"RasterLayer\", file = new(\".RasterFile\", \n .     name = \"D:\\\\R\\\\CRU\\\\Data\\\\cru_ts4.03.2001.2010.pre.dat.nc\", \n .     datanotation = \"FLT4S\", byteorder = \"little\", nodatavalue = 9.96920996838687e+36, \n .     NAchanged = TRUE, nbands = 120L, bandorder = \"BIL\", offset = 0L, \n .     toptobottom = TRUE, blockrows = 0L, blockcols = 0L, driver = \"netcdf\", \n .     open = FALSE), data = new(\".SingleLayerData\", values = logical(0), \n .     offset = 0, gain = 1, inmemory = FALSE, fromdisk = TRUE, \n .     isfactor = FALSE, attributes = list(), haveminmax = FALSE, \n .     min = Inf, max = -Inf, band = 69L, unit = \"\", names = \"X2006.09.16\"), \n .     legend = new(\".RasterLegend\", type = character(0), values = logical(0), \n .         color = logical(0), names = logical(0), colortable = logical(0)), \n .     title = character(0), extent = new(\"Extent\", xmin = -180, \n .         xmax = 180, ymin = -90, ymax = 90), rotated = FALSE, \n .     rotation = new(\".Rotation\", geotrans = numeric(0), transfun = function () \n .     NULL), ncols = 720L, nrows = 360L, crs = new(\"CRS\", projargs = \"+proj=longlat +datum=WGS84 +no_defs\"), \n .     history = list(), z = list(structure(13407, class = \"Date\"))))",
      "3. .local(x, i, j = j, ..., value)",
      "4. setValues(x, getValues(value), i)",
      "5. setValues(x, getValues(value), i)",
      "6. .local(x, values, ...)",
      "7. cbind(x@data@values, values)"
     ]
    }
   ],
   "source": [
    "p_total<-p_1\n",
    "\n",
    "n<-nlayers(p_total)\n",
    "for(i in 1:nlayers(p_2))\n",
    "{\n",
    "  p_total[[n+i]]<-p_2[[i]]\n",
    "}\n",
    "n<-nlayers(p_total)\n",
    "for(i in 1:nlayers(p_3))\n",
    "{\n",
    "  p_total[[n+i]]<-p_3[[i]]\n",
    "}\n",
    "\n",
    "nlayers(p_total)"
   ]
  },
  {
   "cell_type": "code",
   "execution_count": 7,
   "id": "832a2975",
   "metadata": {},
   "outputs": [],
   "source": [
    "f_plot<-function(p,nm){\n",
    "  colors<-c(c('white'),rev(viridis(100)))\n",
    "  #c(\"brown2\",\"white\",\"cornflowerblue\")\n",
    "  c('white','yellow','lightsteelblue3','lightsteelblue4','blue')\n",
    "  #brewer.pal(n = 40, name = \"RdYlBu\")\n",
    "  \n",
    "  year<-as.numeric(substr(names(p),2,5))\n",
    "  length(year)\n",
    "  month<-as.numeric(substr(names(p),7,8))\n",
    "  length(month)\n",
    "  date<-ISOdate(year, month,1)\n",
    "  p<-setZ(p, date)\n",
    "  \n",
    "  #for(i in 1:length(season))\n",
    "  # season[i]<-paste(substr(season[i],2,5),f_season(as.numeric(substr(season[i],7,8))))\n",
    "  #length(season)\n",
    "  \n",
    "  p<-setZ(p,year, name='year')\n",
    "  p_year<-zApply(p, by=year,fun = sum)\n",
    "  #y_year<-as.character(names(p_year)) \n",
    "  #for(i in 1:length(y_year))\n",
    "  #  y_year[i]<-substr(season[i],6,11)\n",
    "  # print(y_season)\n",
    "  \n",
    "  print(p_year)\n",
    "  \n",
    "  pp_year<-zApply(p_year, by=0,fun = mean)\n",
    "  #plot(pp_year,\n",
    "  #    xlim = c(40, 95),\n",
    "  #   ylim = c(30, 60),\n",
    "  #  col=colors\n",
    "  #zlim=c(0,300),\n",
    "  #col=colorRampPalette(c('lightsteelblue4','lightsteelblue3','lightsteelblue2','lightsteelblue', 'white', 'tomato', 'tomato2', 'tomato3', 'tomato4'))(1000)\n",
    "  #)\n",
    "  \n",
    "  #for(s in 1:nlayers(pp_year))\n",
    "  \n",
    "  #{\n",
    "  png(\"PRE_Y_catchment.png\", width = 13.8, height = 8, units = 'in', res = 500)\n",
    "  par(\n",
    "    cex=1.4,\n",
    "    mar=c(4.7,4.1,4.7,7)\n",
    "    #mgp=c(5,1,3)\n",
    "  )\n",
    "  plot(\n",
    "    pp_year,\n",
    "    main=nm,\n",
    "    #ann=FALSE,\n",
    "    #type='n',\n",
    "    #xaxt='n',\n",
    "    #yaxt='n',\n",
    "    xlim = c(55, 100), \n",
    "    ylim = c(33, 50),\n",
    "    zlim= c(0, 1400),\n",
    "    #xlab=\"longitude\",\n",
    "    #ylab=\"latitude\",\n",
    "    col=colors,\n",
    "    #scales=list(0,25,50,75,100,125,150,175,200,225,250),\n",
    "    #zlim =c(0,300),\n",
    "    #col = heat.colors(50)\n",
    "    #scale=c(0,250)\n",
    "    #col=colorRampPalette(rev(colors))(1000)\n",
    "  )\n",
    "  # ggsave(\"test.png\", units=\"in\", dpi=300, compression = 'lzw')\n",
    "  \n",
    "#world_map<-readShapePoly(\"C:/Users/zarin/Desktop/CRU_data/TM_WORLD_BORDERS-0.2\")\n",
    "#plot(world_map, add=T,\n",
    "#xlim = c(45, 88), \n",
    "#ylim = c(35, 57)\n",
    "#)\n",
    "Alakol<-readShapePoly(\"D:/R/CRU/SHP/Alakol_basin_HS\")\n",
    "plot(Alakol, add=T)\n",
    "Amu_darya<-readShapePoly(\"D:/R/CRU/SHP/amu_darya_basin\")\n",
    "plot(Amu_darya, add=T)\n",
    "#Chu<-readShapePoly(\"D:/R/CRU/Data/SHP/chu_river_basin_HS\")\n",
    "#plot(Chu, add=T)\n",
    "Chu_talas<-readShapePoly(\"D:/R/CRU/SHP/chu_talas_river_basins_HS\")\n",
    "plot(Chu_talas, add=T)\n",
    "#Helmand<-readShapePoly(\"D:/R/CRU/Data/SHP/Helmand_HS\")\n",
    "#plot(Helmand, add=T)\n",
    "Ile_b_a<-readShapePoly(\"D:/R/CRU/SHP/Ili-Balkhash_Alakol_HS\")\n",
    "plot(Ile_b_a, add=T)\n",
    "Ile_b<-readShapePoly(\"D:/R/CRU/SHP/Ili-Balkhash_HS\")\n",
    "plot(Ile_b, add=T)\n",
    "#Issyk_kul<-readShapePoly(\"D:/R/CRU/Data/SHP/Issyk-Kul_basin_HS\")\n",
    "#plot(Issyk_kul, add=T)\n",
    "syr_darya<-readShapePoly(\"D:/R/CRU/SHP/syr_darya_basin\")\n",
    "plot(syr_darya, add=T)\n",
    "Tarim<-readShapePoly(\"D:/R/CRU/SHP/Tarim_HS\")\n",
    "plot(Tarim, add=T)\n",
    "\n",
    "dev.off()\n",
    "\n",
    "}\n"
   ]
  },
  {
   "cell_type": "code",
   "execution_count": 8,
   "id": "118074e2",
   "metadata": {},
   "outputs": [
    {
     "name": "stderr",
     "output_type": "stream",
     "text": [
      "Warning message:\n",
      "\"readShapePoly is deprecated; use rgdal::readOGR or sf::st_read\"\n",
      "Warning message:\n",
      "\"readShapePoly is deprecated; use rgdal::readOGR or sf::st_read\"\n",
      "Warning message:\n",
      "\"readShapePoly is deprecated; use rgdal::readOGR or sf::st_read\"\n",
      "Warning message:\n",
      "\"readShapePoly is deprecated; use rgdal::readOGR or sf::st_read\"\n"
     ]
    }
   ],
   "source": [
    "f_plot(p_total,\"\")"
   ]
  }
 ],
 "metadata": {
  "kernelspec": {
   "display_name": "R",
   "language": "R",
   "name": "ir"
  },
  "language_info": {
   "codemirror_mode": "r",
   "file_extension": ".r",
   "mimetype": "text/x-r-source",
   "name": "R",
   "pygments_lexer": "r",
   "version": "4.1.2"
  }
 },
 "nbformat": 4,
 "nbformat_minor": 5
}
