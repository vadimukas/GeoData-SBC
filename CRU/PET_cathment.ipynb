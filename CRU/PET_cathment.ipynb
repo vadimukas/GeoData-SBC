{
 "cells": [
  {
   "cell_type": "code",
   "execution_count": null,
   "id": "7cfc4e5e",
   "metadata": {},
   "outputs": [],
   "source": [
    "version\n"
   ]
  },
  {
   "cell_type": "code",
   "execution_count": null,
   "id": "44251f40",
   "metadata": {},
   "outputs": [],
   "source": [
    "# first intall the package - if installed # load\n",
    "#install.packages(\"rgdal\")\n",
    "#install.packages(\"raster\")\n",
    "#install.packages(\"maptools\")\n",
    "#install.packages(\"ncdf4\")\n",
    "#install.packages(\"RColorBrewer\")\n",
    "#install.packages(\"maps\")\n",
    "#install.packages(\"lattice\")\n",
    "#install.packages(\"latticeExtra\")\n",
    "#install.packages(\"sf\") \n",
    "#install.packages(\"rasterVis\")\n",
    "#install.packages(\"viridisLite\")\n",
    "#install.packages(\"viridis\") "
   ]
  },
  {
   "cell_type": "code",
   "execution_count": 1,
   "id": "c0642fb9",
   "metadata": {},
   "outputs": [
    {
     "name": "stderr",
     "output_type": "stream",
     "text": [
      "Loading required package: sp\n",
      "\n",
      "Please note that rgdal will be retired by the end of 2023,\n",
      "plan transition to sf/stars/terra functions using GDAL and PROJ\n",
      "at your earliest convenience.\n",
      "\n",
      "rgdal: version: 1.5-28, (SVN revision 1158)\n",
      "Geospatial Data Abstraction Library extensions to R successfully loaded\n",
      "Loaded GDAL runtime: GDAL 3.2.1, released 2020/12/29\n",
      "Path to GDAL shared files: C:/Program Files/R/R-4.1.2/library/rgdal/gdal\n",
      "GDAL binary built with GEOS: TRUE \n",
      "Loaded PROJ runtime: Rel. 7.2.1, January 1st, 2021, [PJ_VERSION: 721]\n",
      "Path to PROJ shared files: C:/Program Files/R/R-4.1.2/library/rgdal/proj\n",
      "PROJ CDN enabled: FALSE\n",
      "Linking to sp version:1.4-6\n",
      "To mute warnings of possible GDAL/OSR exportToProj4() degradation,\n",
      "use options(\"rgdal_show_exportToProj4_warnings\"=\"none\") before loading sp or rgdal.\n",
      "Overwritten PROJ_LIB was C:/Program Files/R/R-4.1.2/library/rgdal/proj\n",
      "\n",
      "Checking rgeos availability: TRUE\n",
      "Please note that 'maptools' will be retired by the end of 2023,\n",
      "plan transition at your earliest convenience;\n",
      "some functionality will be moved to 'sp'.\n",
      "\n",
      "Warning message:\n",
      "\"package 'latticeExtra' was built under R version 4.1.3\"\n",
      "Linking to GEOS 3.9.1, GDAL 3.2.1, PROJ 7.2.1; sf_use_s2() is TRUE\n",
      "\n",
      "Warning message:\n",
      "\"package 'rasterVis' was built under R version 4.1.3\"\n",
      "Warning message:\n",
      "\"package 'viridisLite' was built under R version 4.1.3\"\n",
      "Warning message:\n",
      "\"package 'viridis' was built under R version 4.1.3\"\n",
      "\n",
      "Attaching package: 'viridis'\n",
      "\n",
      "\n",
      "The following object is masked from 'package:maps':\n",
      "\n",
      "    unemp\n",
      "\n",
      "\n"
     ]
    }
   ],
   "source": [
    "# next load the packages\n",
    "library(rgdal)\n",
    "library(raster)\n",
    "library(maptools)\n",
    "library(ncdf4)\n",
    "library(RColorBrewer)\n",
    "library(maps)\n",
    "library(lattice)\n",
    "library(latticeExtra)\n",
    "library(sf) \n",
    "library(rasterVis)\n",
    "library(viridisLite)\n",
    "library(viridis) \n"
   ]
  },
  {
   "cell_type": "code",
   "execution_count": 2,
   "id": "ec5214a8",
   "metadata": {},
   "outputs": [
    {
     "data": {
      "text/html": [
       "'D:/R/CRU'"
      ],
      "text/latex": [
       "'D:/R/CRU'"
      ],
      "text/markdown": [
       "'D:/R/CRU'"
      ],
      "text/plain": [
       "[1] \"D:/R/CRU\""
      ]
     },
     "metadata": {},
     "output_type": "display_data"
    }
   ],
   "source": [
    "# this script is  for annual potential evaporation (PET) for catchments of Central Asia \n",
    "setwd(\"D:/R/CRU/\")\n",
    "getwd()"
   ]
  },
  {
   "cell_type": "code",
   "execution_count": 3,
   "id": "3aac74b9",
   "metadata": {},
   "outputs": [],
   "source": [
    "#Open netcdf files using brick function\n",
    "p_1<-brick(\"D:/R/CRU/Data/cru_ts4.03.1981.1990.pre.dat.nc\",varname=\"pre\")\n",
    "p_2<-brick(\"D:/R/CRU/Data/cru_ts4.03.1991.2000.pre.dat.nc\",varname=\"pre\")\n",
    "p_3<-brick(\"D:/R/CRU/Data/cru_ts4.03.2001.2010.pre.dat.nc\",varname=\"pre\")"
   ]
  },
  {
   "cell_type": "code",
   "execution_count": 4,
   "id": "5ba92891",
   "metadata": {},
   "outputs": [
    {
     "data": {
      "text/html": [
       "360"
      ],
      "text/latex": [
       "360"
      ],
      "text/markdown": [
       "360"
      ],
      "text/plain": [
       "[1] 360"
      ]
     },
     "metadata": {},
     "output_type": "display_data"
    }
   ],
   "source": [
    "# each layer here is where PET is in mm a day for a month, so we multiply each layer iteratively by 30 days\n",
    "# for all three layers (in this case) iteratively using loop\n",
    "p_total<-30*p_1\n",
    "n<-nlayers(p_total)\n",
    "for(i in 1:nlayers(p_2))\n",
    "{\n",
    "  p_total[[n+i]]<-30*p_2[[i]]\n",
    "}\n",
    "n<-nlayers(p_total)\n",
    "for(i in 1:nlayers(p_3))\n",
    "{\n",
    "  p_total[[n+i]]<-30*p_3[[i]]\n",
    "}\n",
    "nlayers(p_total)"
   ]
  },
  {
   "cell_type": "code",
   "execution_count": 5,
   "id": "832a2975",
   "metadata": {},
   "outputs": [],
   "source": [
    "# final big chunk of the code constructs a plot of mean annul total PET from 1981 to 2010 (30 years)\n",
    "#NB: it shoudl be run in one go in Jupyter \n",
    "f_plot<-function(p,nm){\n",
    "  #colors<-c(c('white'), rainbow(100))\n",
    "  #c(\"brown2\",\"white\",\"cornflowerblue\")\n",
    "  #c('white','yellow','lightsteelblue3','lightsteelblue4','blue')\n",
    "  #brewer.pal(n = 40, name = \"RdYlBu\")\n",
    "  colors<-brewer.pal(n=15, name=\"RdYlBu\")\n",
    "  \n",
    "  year<-as.numeric(substr(names(p),2,5))\n",
    "  length(year)\n",
    "  month<-as.numeric(substr(names(p),7,8))\n",
    "  length(month)\n",
    "  date<-ISOdate(year, month,1)\n",
    "  p<-setZ(p, date)\n",
    "  \n",
    "  #for(i in 1:length(season))\n",
    "  # season[i]<-paste(substr(season[i],2,5),f_season(as.numeric(substr(season[i],7,8))))\n",
    "  #length(season)\n",
    "  \n",
    "  p<-setZ(p,year, name='year')\n",
    "  p_year<-zApply(p, by=year,fun = sum)\n",
    "  #y_year<-as.character(names(p_year)) \n",
    "  #for(i in 1:length(y_year))\n",
    "  #  y_year[i]<-substr(season[i],6,11)\n",
    "  # print(y_season)\n",
    "  \n",
    "  print(p_year)\n",
    "  \n",
    "  pp_year<-zApply(p_year, by=0,fun = mean)\n",
    "  #plot(pp_year,\n",
    "  #    xlim = c(40, 95),\n",
    "  #   ylim = c(30, 60),\n",
    "  #  col=colors\n",
    "  #zlim=c(0,300),\n",
    "  #col=colorRampPalette(c('lightsteelblue4','lightsteelblue3','lightsteelblue2','lightsteelblue', 'white', 'tomato', 'tomato2', 'tomato3', 'tomato4'))(1000)\n",
    "  #)\n",
    "  \n",
    "  #for(s in 1:nlayers(pp_year))\n",
    "  \n",
    "  #{\n",
    "  png(\"PET_Y_catchment.png\", width = 13.8, height = 8, units = 'in', res = 500)\n",
    "  par(\n",
    "    cex=1.4,\n",
    "    mar=c(4.7,4.1,4.7,7)\n",
    "    #mgp=c(5,1,3)\n",
    "  )\n",
    "  plot(\n",
    "    pp_year,\n",
    "    main=nm,\n",
    "    #ann=FALSE,\n",
    "    #type='n',\n",
    "    #xaxt='n',\n",
    "    #yaxt='n',\n",
    "    xlim = c(55, 100), \n",
    "    ylim = c(33, 50),\n",
    "    zlim= c(0, 1800),\n",
    "    #xlab=\"longitude\",\n",
    "    #ylab=\"latitude\",\n",
    "    col=colors,\n",
    "    #scales=list(0,25,50,75,100,125,150,175,200,225,250),\n",
    "    #zlim =c(0,300),\n",
    "    #col = heat.colors(50)\n",
    "    #scale=c(0,250)\n",
    "    #col=colorRampPalette(rev(colors))(1000)\n",
    "  )\n",
    "  # ggsave(\"test.png\", units=\"in\", dpi=300, compression = 'lzw')\n",
    "  \n",
    "  #world_map<-readShapePoly(\"D:/R/CRU/SHP/TM_WORLD_BORDERS-0.2\")\n",
    "  #plot(world_map, add=T,\n",
    "  #xlim = c(45, 88), \n",
    "  #ylim = c(35, 57)\n",
    "  #)\n",
    "  Alakol<-readShapePoly(\"D:/R/CRU/SHP/Alakol_basin_HS\")\n",
    "  plot(Alakol, add=T)\n",
    "  Amu_darya<-readShapePoly(\"D:/R/CRU/SHP/amu_darya_basin\")\n",
    "  plot(Amu_darya, add=T)\n",
    "  #Chu<-readShapePoly(\"D:/R/CRU/SHP/chu_river_basin_HS\")\n",
    "  #plot(Chu, add=T)\n",
    "  Chu_talas<-readShapePoly(\"D:/R/CRU/SHP/chu_talas_river_basins_HS\")\n",
    "  plot(Chu_talas, add=T)\n",
    "  #Helmand<-readShapePoly(\"D:/R/CRU/SHP/CRU_data/Helmand_HS\")\n",
    "  #plot(Helmand, add=T)\n",
    "  Ile_b_a<-readShapePoly(\"D:/R/CRU/SHP/Ili-Balkhash_Alakol_HS\")\n",
    "  plot(Ile_b_a, add=T)\n",
    "  Ile_b<-readShapePoly(\"D:/R/CRU/SHP/Ili-Balkhash_HS\")\n",
    "  plot(Ile_b, add=T)\n",
    "  #Issyk_kul<-readShapePoly(\"D:/R/CRU/SHP/Issyk-Kul_basin_HS\")\n",
    "  #plot(Issyk_kul, add=T)\n",
    "  syr_darya<-readShapePoly(\"D:/R/CRU/SHP/syr_darya_basin\")\n",
    "  plot(syr_darya, add=T)\n",
    "  Tarim<-readShapePoly(\"D:/R/CRU/SHP/Tarim_HS\")\n",
    "  plot(Tarim, add=T)\n",
    "  \n",
    "  dev.off()\n",
    "  \n",
    "}\n",
    "\n",
    "\n"
   ]
  },
  {
   "cell_type": "code",
   "execution_count": 6,
   "id": "118074e2",
   "metadata": {},
   "outputs": [
    {
     "name": "stderr",
     "output_type": "stream",
     "text": [
      "Warning message in brewer.pal(n = 15, name = \"RdYlBu\"):\n",
      "\"n too large, allowed maximum for palette RdYlBu is 11\n",
      "Returning the palette you asked for with that many colors\n",
      "\"\n"
     ]
    },
    {
     "name": "stdout",
     "output_type": "stream",
     "text": [
      "class      : RasterBrick \n",
      "dimensions : 360, 720, 259200, 30  (nrow, ncol, ncell, nlayers)\n",
      "resolution : 0.5, 0.5  (x, y)\n",
      "extent     : -180, 180, -90, 90  (xmin, xmax, ymin, ymax)\n",
      "crs        : +proj=longlat +datum=WGS84 +no_defs \n",
      "source     : r_tmp_2022-03-19_120227_8284_12503.grd \n",
      "names      :  X1981,  X1982,  X1983,  X1984,  X1985,  X1986,  X1987,  X1988,  X1989,  X1990,  X1991,  X1992,  X1993,  X1994,  X1995, ... \n",
      "min values :      0,      0,      0,      0,      0,      0,      0,      0,      0,      0,      0,      0,      0,      0,      0, ... \n",
      "max values : 255555, 244332, 209226, 276624, 270570, 283971, 215712, 266856, 245733, 264573, 232188, 235302, 222483, 218415, 222009, ... \n",
      "           : 1981, 2010 (min, max)\n",
      "\n"
     ]
    },
    {
     "name": "stderr",
     "output_type": "stream",
     "text": [
      "Warning message:\n",
      "\"readShapePoly is deprecated; use rgdal::readOGR or sf::st_read\"\n",
      "Warning message:\n",
      "\"readShapePoly is deprecated; use rgdal::readOGR or sf::st_read\"\n",
      "Warning message:\n",
      "\"readShapePoly is deprecated; use rgdal::readOGR or sf::st_read\"\n",
      "Warning message:\n",
      "\"readShapePoly is deprecated; use rgdal::readOGR or sf::st_read\"\n",
      "Warning message:\n",
      "\"readShapePoly is deprecated; use rgdal::readOGR or sf::st_read\"\n",
      "Warning message:\n",
      "\"readShapePoly is deprecated; use rgdal::readOGR or sf::st_read\"\n",
      "Warning message:\n",
      "\"readShapePoly is deprecated; use rgdal::readOGR or sf::st_read\"\n"
     ]
    },
    {
     "data": {
      "text/html": [
       "<strong>png:</strong> 2"
      ],
      "text/latex": [
       "\\textbf{png:} 2"
      ],
      "text/markdown": [
       "**png:** 2"
      ],
      "text/plain": [
       "png \n",
       "  2 "
      ]
     },
     "metadata": {},
     "output_type": "display_data"
    }
   ],
   "source": [
    "# here come the plot\n",
    "f_plot(p_total,\"\")"
   ]
  },
  {
   "cell_type": "code",
   "execution_count": null,
   "id": "3d11405a",
   "metadata": {},
   "outputs": [],
   "source": []
  }
 ],
 "metadata": {
  "kernelspec": {
   "display_name": "R",
   "language": "R",
   "name": "ir"
  },
  "language_info": {
   "codemirror_mode": "r",
   "file_extension": ".r",
   "mimetype": "text/x-r-source",
   "name": "R",
   "pygments_lexer": "r",
   "version": "4.1.2"
  }
 },
 "nbformat": 4,
 "nbformat_minor": 5
}
